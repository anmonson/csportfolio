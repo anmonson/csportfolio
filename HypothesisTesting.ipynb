{
 "cells": [
  {
   "cell_type": "markdown",
   "id": "3b6c7ee1",
   "metadata": {},
   "source": [
    "# Homework 3: Hypothesis Testing\n",
    "## CMSC320 Fall 2023\n",
    "### Ariel Monson\n",
    "\n",
    
    "#### Dataset\n",
    "\n",
    "| Variable          |Definition | Key |\n",
    "| :---------------- | :------: | ----: |\n",
    "| survival          |   Surivival   | 0 = No, 1 = Yes |\n",
    "| pclass           |    Ticket class   | 1 = 1st, 2 = 2nd, 3 = 3rd |\n",
    "| sex    |  Sex   | 19.99 |\n",
    "| age |  Age in years   | 42.99 |\n",
    "| sibsp |  # of siblings / spouses aboard the Titanic   | 42.99 |\n",
    "| parch    |  # of parents / children aboard the Titanic   | 19.99 |\n",
    "| ticket    |  Ticket   | 19.99 |\n",
    "| fare    |  Passenger Fare   | 19.99 |\n",
    "| cabin    |  Cabin Number   | 19.99 |\n",
    "| embarked    |  Port of Embarkation   | C = Cherbourg, Q = Queenstown, S = Southampton |\n",
    "\n",
    "#### Variable Notes\n",
    "pclass: A proxy for socio-economic status (SES)\n",
    "- 1st = Upper\n",
    "- 2nd = Middle\n",
    "- 3rd = Lower\n",
    "\n",
    "age: Age is fractional if less than 1. If the age is estimated, is it in the form of xx.5\n",
    "\n",
    "sibsp: The dataset defines family relations in this way...\n",
    "- Sibling = brother, sister, stepbrother, stepsister\n",
    "- Spouse = husband, wife (mistresses and fiancés were ignored)\n",
    "\n",
    "parch: The dataset defines family relations in this way...\n",
    "- Parent = mother, father\n",
    "- Child = daughter, son, stepdaughter, stepson\n",
    "- Some children travelled only with a nanny, therefore parch=0 for them."
   ]
  },
  {
   "cell_type": "markdown",
   "id": "fb94dbaf",
   "metadata": {},
   "source": [
    "## Part 1: Cleaning and Exploration of Data\n",
    "This part is not graded. Clean and explore data as you see fit."
   ]
  },
  {
   "cell_type": "code",
   "execution_count": null,
   "id": "2148d8db",
   "metadata": {},
   "outputs": [],
   "source": [
    "import pandas as pd\n",
    "import numpy as np\n",
    "import scipy as sp"
   ]
  },
  {
   "cell_type": "code",
   "execution_count": 3,
   "id": "e2471b9a",
   "metadata": {},
   "outputs": [
    {
     "data": {
      "text/html": [
       "<div>\n",
       "<style scoped>\n",
       "    .dataframe tbody tr th:only-of-type {\n",
       "        vertical-align: middle;\n",
       "    }\n",
       "\n",
       "    .dataframe tbody tr th {\n",
       "        vertical-align: top;\n",
       "    }\n",
       "\n",
       "    .dataframe thead th {\n",
       "        text-align: right;\n",
       "    }\n",
       "</style>\n",
       "<table border=\"1\" class=\"dataframe\">\n",
       "  <thead>\n",
       "    <tr style=\"text-align: right;\">\n",
       "      <th></th>\n",
       "      <th>PassengerId</th>\n",
       "      <th>Survived</th>\n",
       "      <th>Pclass</th>\n",
       "      <th>Name</th>\n",
       "      <th>Sex</th>\n",
       "      <th>Age</th>\n",
       "      <th>SibSp</th>\n",
       "      <th>Parch</th>\n",
       "      <th>Ticket</th>\n",
       "      <th>Fare</th>\n",
       "      <th>Cabin</th>\n",
       "      <th>Embarked</th>\n",
       "    </tr>\n",
       "  </thead>\n",
       "  <tbody>\n",
       "    <tr>\n",
       "      <th>0</th>\n",
       "      <td>1</td>\n",
       "      <td>0</td>\n",
       "      <td>3</td>\n",
       "      <td>Braund, Mr. Owen Harris</td>\n",
       "      <td>male</td>\n",
       "      <td>22.0</td>\n",
       "      <td>1</td>\n",
       "      <td>0</td>\n",
       "      <td>A/5 21171</td>\n",
       "      <td>7.2500</td>\n",
       "      <td>NaN</td>\n",
       "      <td>S</td>\n",
       "    </tr>\n",
       "    <tr>\n",
       "      <th>1</th>\n",
       "      <td>2</td>\n",
       "      <td>1</td>\n",
       "      <td>1</td>\n",
       "      <td>Cumings, Mrs. John Bradley (Florence Briggs Th...</td>\n",
       "      <td>female</td>\n",
       "      <td>38.0</td>\n",
       "      <td>1</td>\n",
       "      <td>0</td>\n",
       "      <td>PC 17599</td>\n",
       "      <td>71.2833</td>\n",
       "      <td>C85</td>\n",
       "      <td>C</td>\n",
       "    </tr>\n",
       "    <tr>\n",
       "      <th>2</th>\n",
       "      <td>3</td>\n",
       "      <td>1</td>\n",
       "      <td>3</td>\n",
       "      <td>Heikkinen, Miss. Laina</td>\n",
       "      <td>female</td>\n",
       "      <td>26.0</td>\n",
       "      <td>0</td>\n",
       "      <td>0</td>\n",
       "      <td>STON/O2. 3101282</td>\n",
       "      <td>7.9250</td>\n",
       "      <td>NaN</td>\n",
       "      <td>S</td>\n",
       "    </tr>\n",
       "    <tr>\n",
       "      <th>3</th>\n",
       "      <td>4</td>\n",
       "      <td>1</td>\n",
       "      <td>1</td>\n",
       "      <td>Futrelle, Mrs. Jacques Heath (Lily May Peel)</td>\n",
       "      <td>female</td>\n",
       "      <td>35.0</td>\n",
       "      <td>1</td>\n",
       "      <td>0</td>\n",
       "      <td>113803</td>\n",
       "      <td>53.1000</td>\n",
       "      <td>C123</td>\n",
       "      <td>S</td>\n",
       "    </tr>\n",
       "    <tr>\n",
       "      <th>4</th>\n",
       "      <td>5</td>\n",
       "      <td>0</td>\n",
       "      <td>3</td>\n",
       "      <td>Allen, Mr. William Henry</td>\n",
       "      <td>male</td>\n",
       "      <td>35.0</td>\n",
       "      <td>0</td>\n",
       "      <td>0</td>\n",
       "      <td>373450</td>\n",
       "      <td>8.0500</td>\n",
       "      <td>NaN</td>\n",
       "      <td>S</td>\n",
       "    </tr>\n",
       "    <tr>\n",
       "      <th>...</th>\n",
       "      <td>...</td>\n",
       "      <td>...</td>\n",
       "      <td>...</td>\n",
       "      <td>...</td>\n",
       "      <td>...</td>\n",
       "      <td>...</td>\n",
       "      <td>...</td>\n",
       "      <td>...</td>\n",
       "      <td>...</td>\n",
       "      <td>...</td>\n",
       "      <td>...</td>\n",
       "      <td>...</td>\n",
       "    </tr>\n",
       "    <tr>\n",
       "      <th>886</th>\n",
       "      <td>887</td>\n",
       "      <td>0</td>\n",
       "      <td>2</td>\n",
       "      <td>Montvila, Rev. Juozas</td>\n",
       "      <td>male</td>\n",
       "      <td>27.0</td>\n",
       "      <td>0</td>\n",
       "      <td>0</td>\n",
       "      <td>211536</td>\n",
       "      <td>13.0000</td>\n",
       "      <td>NaN</td>\n",
       "      <td>S</td>\n",
       "    </tr>\n",
       "    <tr>\n",
       "      <th>887</th>\n",
       "      <td>888</td>\n",
       "      <td>1</td>\n",
       "      <td>1</td>\n",
       "      <td>Graham, Miss. Margaret Edith</td>\n",
       "      <td>female</td>\n",
       "      <td>19.0</td>\n",
       "      <td>0</td>\n",
       "      <td>0</td>\n",
       "      <td>112053</td>\n",
       "      <td>30.0000</td>\n",
       "      <td>B42</td>\n",
       "      <td>S</td>\n",
       "    </tr>\n",
       "    <tr>\n",
       "      <th>888</th>\n",
       "      <td>889</td>\n",
       "      <td>0</td>\n",
       "      <td>3</td>\n",
       "      <td>Johnston, Miss. Catherine Helen \"Carrie\"</td>\n",
       "      <td>female</td>\n",
       "      <td>NaN</td>\n",
       "      <td>1</td>\n",
       "      <td>2</td>\n",
       "      <td>W./C. 6607</td>\n",
       "      <td>23.4500</td>\n",
       "      <td>NaN</td>\n",
       "      <td>S</td>\n",
       "    </tr>\n",
       "    <tr>\n",
       "      <th>889</th>\n",
       "      <td>890</td>\n",
       "      <td>1</td>\n",
       "      <td>1</td>\n",
       "      <td>Behr, Mr. Karl Howell</td>\n",
       "      <td>male</td>\n",
       "      <td>26.0</td>\n",
       "      <td>0</td>\n",
       "      <td>0</td>\n",
       "      <td>111369</td>\n",
       "      <td>30.0000</td>\n",
       "      <td>C148</td>\n",
       "      <td>C</td>\n",
       "    </tr>\n",
       "    <tr>\n",
       "      <th>890</th>\n",
       "      <td>891</td>\n",
       "      <td>0</td>\n",
       "      <td>3</td>\n",
       "      <td>Dooley, Mr. Patrick</td>\n",
       "      <td>male</td>\n",
       "      <td>32.0</td>\n",
       "      <td>0</td>\n",
       "      <td>0</td>\n",
       "      <td>370376</td>\n",
       "      <td>7.7500</td>\n",
       "      <td>NaN</td>\n",
       "      <td>Q</td>\n",
       "    </tr>\n",
       "  </tbody>\n",
       "</table>\n",
       "<p>891 rows × 12 columns</p>\n",
       "</div>"
      ],
      "text/plain": [
       "     PassengerId  Survived  Pclass   \n",
       "0              1         0       3  \\\n",
       "1              2         1       1   \n",
       "2              3         1       3   \n",
       "3              4         1       1   \n",
       "4              5         0       3   \n",
       "..           ...       ...     ...   \n",
       "886          887         0       2   \n",
       "887          888         1       1   \n",
       "888          889         0       3   \n",
       "889          890         1       1   \n",
       "890          891         0       3   \n",
       "\n",
       "                                                  Name     Sex   Age  SibSp   \n",
       "0                              Braund, Mr. Owen Harris    male  22.0      1  \\\n",
       "1    Cumings, Mrs. John Bradley (Florence Briggs Th...  female  38.0      1   \n",
       "2                               Heikkinen, Miss. Laina  female  26.0      0   \n",
       "3         Futrelle, Mrs. Jacques Heath (Lily May Peel)  female  35.0      1   \n",
       "4                             Allen, Mr. William Henry    male  35.0      0   \n",
       "..                                                 ...     ...   ...    ...   \n",
       "886                              Montvila, Rev. Juozas    male  27.0      0   \n",
       "887                       Graham, Miss. Margaret Edith  female  19.0      0   \n",
       "888           Johnston, Miss. Catherine Helen \"Carrie\"  female   NaN      1   \n",
       "889                              Behr, Mr. Karl Howell    male  26.0      0   \n",
       "890                                Dooley, Mr. Patrick    male  32.0      0   \n",
       "\n",
       "     Parch            Ticket     Fare Cabin Embarked  \n",
       "0        0         A/5 21171   7.2500   NaN        S  \n",
       "1        0          PC 17599  71.2833   C85        C  \n",
       "2        0  STON/O2. 3101282   7.9250   NaN        S  \n",
       "3        0            113803  53.1000  C123        S  \n",
       "4        0            373450   8.0500   NaN        S  \n",
       "..     ...               ...      ...   ...      ...  \n",
       "886      0            211536  13.0000   NaN        S  \n",
       "887      0            112053  30.0000   B42        S  \n",
       "888      2        W./C. 6607  23.4500   NaN        S  \n",
       "889      0            111369  30.0000  C148        C  \n",
       "890      0            370376   7.7500   NaN        Q  \n",
       "\n",
       "[891 rows x 12 columns]"
      ]
     },
     "execution_count": 3,
     "metadata": {},
     "output_type": "execute_result"
    }
   ],
   "source": [
    "data = pd.read_csv(\"data.csv\")\n",
    "data"
   ]
  },
  {
   "cell_type": "code",
   "execution_count": 4,
   "id": "d031a4d8",
   "metadata": {},
   "outputs": [
    {
     "name": "stdout",
     "output_type": "stream",
     "text": [
      "<class 'pandas.core.frame.DataFrame'>\n",
      "RangeIndex: 891 entries, 0 to 890\n",
      "Data columns (total 12 columns):\n",
      " #   Column       Non-Null Count  Dtype  \n",
      "---  ------       --------------  -----  \n",
      " 0   PassengerId  891 non-null    int64  \n",
      " 1   Survived     891 non-null    int64  \n",
      " 2   Pclass       891 non-null    int64  \n",
      " 3   Name         891 non-null    object \n",
      " 4   Sex          891 non-null    object \n",
      " 5   Age          714 non-null    float64\n",
      " 6   SibSp        891 non-null    int64  \n",
      " 7   Parch        891 non-null    int64  \n",
      " 8   Ticket       891 non-null    object \n",
      " 9   Fare         891 non-null    float64\n",
      " 10  Cabin        204 non-null    object \n",
      " 11  Embarked     889 non-null    object \n",
      "dtypes: float64(2), int64(5), object(5)\n",
      "memory usage: 83.7+ KB\n"
     ]
    }
   ],
   "source": [
    "data.info()"
   ]
  },
  {
   "cell_type": "code",
   "execution_count": null,
   "id": "e932c622",
   "metadata": {},
   "outputs": [],
   "source": []
  },
  {
   "cell_type": "markdown",
   "id": "f5d6b3b1",
   "metadata": {},
   "source": [
    "## Part 2: Guided Research\n",
    "\n",
    "1. Determine data type (numerical, catagorical, etc) and qualifying conditions for the following hypothesis tests. These will be the hypothesis tests that you will use to complete the rest of the homework.\n",
    "    - Chi-Squared Test For Independence\n",
    "    - Z test\n",
    "    - T Test\n",
    "    - Mann-Whitney U Test\n",
    "\n",
    "Answer Here"
   ]
  },
  {
   "cell_type": "code",
   "execution_count": null,
   "id": "7348ac27",
   "metadata": {},
   "outputs": [],
   "source": [
    "'''\n",
    "1. Chi-Squared Test for Independence: \n",
    "    Data Type: Categorical \n",
    "    Qualifying Conditions:\n",
    "        - data in form of contingency table  \n",
    "        - observations should be counts of occurences \n",
    "        - expected freq. in table should be at least 5 \n",
    "    This test is usually used for hypothesis testing and used to determine \n",
    "    whether there is a sig. association between two categorical variables.\n",
    "\n",
    "2. Z Test: \n",
    "    Data Type: Numerical \n",
    "    Qualifying Conditions: \n",
    "        - pop should be approximately normally distributed\n",
    "        - pop should have large sample size (n>= 30)\n",
    "        - know the pop standard deviation or can estimate with sample data \n",
    "    This test is usually used when you have a known pop standard deviation and \n",
    "    is used to test hypotheses about population means.\n",
    "\n",
    "3. T Test: \n",
    "    Data Type: Numerical \n",
    "    Qualifying Conditions: \n",
    "        - pop standard deciation is not known (use sample SD to estimate)\n",
    "        - pop may not be normally dist. \n",
    "        - sample should be normally dist. \n",
    "        - have two independent groups (independent sample t test)\n",
    "        - have paired observations (paired sample t test)\n",
    "    This test is usually used to compare means between two groups, or to test \n",
    "    the mean difference within a single group. \n",
    "\n",
    "4. Mann-Whitney U Test \n",
    "    Data Type: Numerical \n",
    "    Qualifying Conditions: \n",
    "        - data can be ordinal or continuous \n",
    "        - data does not need to follow a normal dist. \n",
    "        - sample are independent \n",
    "    This test is usually used to compare distributions of two independent \n",
    "    samples in order to seeif one tends to have larger values than the other. \n",
    "\n",
    "\n",
    "'''"
   ]
  },
  {
   "cell_type": "markdown",
   "id": "c66e0128",
   "metadata": {},
   "source": [
    "## Part 3: Hypothesis Testing with Two Catagorical Variables\n",
    "Use $\\alpha = 0.01$ for all statistical tests. Essentially, this is the treshold that you compare to the calculated p-value in order to determine statistical significance."
   ]
  },
  {
   "cell_type": "markdown",
   "id": "5957dcfd",
   "metadata": {},
   "source": [
    "### A. Surviving and Sex (Partial Example)\n",
    "Notice some of the work is already done for you to get you started.\n",
    "\n",
    "#### 1. Create Contingency Table\n",
    "|           | Male | Female |\n",
    "| :--------: | :--------: | :--------: |\n",
    "| Survived          |   81   | 233 |\n",
    "| Did not Survive   |    468  | 109 |\n",
    "\n",
    "Example code to create contigency table below"
   ]
  },
  {
   "cell_type": "code",
   "execution_count": 9,
   "id": "0c192fbd",
   "metadata": {},
   "outputs": [
    {
     "name": "stdout",
     "output_type": "stream",
     "text": [
      "Survived  Not Survived  Survived\n",
      "Sex                             \n",
      "female              81       233\n",
      "male               468       109\n"
     ]
    }
   ],
   "source": [
    "# Code to create contigency table is provided below\n",
    "\n",
    "contingency_table = pd.crosstab(data[\"Sex\"], data[\"Survived\"].apply(lambda x: \"Not Survived\" if x == 0 else \"Survived\"))\n",
    "print(contingency_table)"
   ]
  },
  {
   "cell_type": "markdown",
   "id": "7ed26b21",
   "metadata": {},
   "source": [
    "#### 2. Create Null and Alternate Hypothesis (Already done as example for this question)\n",
    "\n",
    "$N_0 = $ Sex and Survival are independent variables\n",
    "\n",
    "$N_A = $ There's a significant association between sex and survival"
   ]
  },
  {
   "cell_type": "markdown",
   "id": "952e32f9",
   "metadata": {},
   "source": [
    "#### 3. Perform Appropriate Hypothesis Test and Calculate P-Value \n",
    "Use Numpy and Scipy, Do NOT manually do calculations"
   ]
  },
  {
   "cell_type": "code",
   "execution_count": 10,
   "id": "176ca159",
   "metadata": {},
   "outputs": [
    {
     "name": "stdout",
     "output_type": "stream",
     "text": [
      "Chi-Squared Statistic: 260.71702016732104\n",
      "P-Value: 1.1973570627755645e-58\n"
     ]
    }
   ],
   "source": [
    "from scipy.stats import chi2_contingency\n",
    "\n",
    "\n",
    "# Perform the chi-squared test\n",
    "chi2, p, _, _ = chi2_contingency(contingency_table)\n",
    "\n",
    "# Print the results\n",
    "print(f\"Chi-Squared Statistic: {chi2}\")\n",
    "print(f\"P-Value: {p}\")\n"
   ]
  },
  {
   "cell_type": "markdown",
   "id": "7b4a8bd6",
   "metadata": {},
   "source": [
    "#### 4. Interpret Results\n",
    "Be specific. Determine whether to reject or accept the Null Hypothesis. Was there a group in particular that was more likely to survive the Titanic?"
   ]
  },
  {
   "cell_type": "code",
   "execution_count": null,
   "id": "ef19834c",
   "metadata": {},
   "outputs": [],
   "source": [
    "'''\n",
    "Because of the low p-value (p < 0.05), we can  reject the null hypothesis($N_0$)\n",
    "This means that there is enough evidence to suggest that there is a significant \n",
    "association between the variables 'Sex' and 'Survival' in the Titanic dataset.\n",
    "\n",
    "IE: the sex of passengers is not independent of their survival on the Titanic. \n",
    "\n",
    "Females were more likely to survive the Titanic disaster compared to males. \n",
    "This also does align with the fact that women and children were given priority \n",
    "during the evacuation. In summary, we can conclude that there is a significant \n",
    "association between sex and survival on the Titanic, and females had a higher \n",
    "likelihood of surviving compared to males.\n",
    "\n",
    "'''"
   ]
  },
  {
   "cell_type": "markdown",
   "id": "e796ef61",
   "metadata": {},
   "source": [
    "### B. Surviving and Ticket Class\n",
    "#### 1. Create Contingency Table"
   ]
  },
  {
   "cell_type": "code",
   "execution_count": 11,
   "id": "b0afdcee",
   "metadata": {},
   "outputs": [
    {
     "name": "stdout",
     "output_type": "stream",
     "text": [
      "Survived  Not Survived  Survived\n",
      "Pclass                          \n",
      "1                   80       136\n",
      "2                   97        87\n",
      "3                  372       119\n"
     ]
    }
   ],
   "source": [
    "contingency_table2 = pd.crosstab(data[\"Pclass\"], data[\"Survived\"].apply(lambda x: \"Not Survived\" if x == 0 else \"Survived\"))\n",
    "\n",
    "# Display the contingency table\n",
    "print(contingency_table2)"
   ]
  },
  {
   "cell_type": "markdown",
   "id": "2cf96748",
   "metadata": {},
   "source": [
    "#### 2. Create Null and Alternate Hypothesis"
   ]
  },
  {
   "cell_type": "code",
   "execution_count": 12,
   "id": "6d6889f5",
   "metadata": {},
   "outputs": [
    {
     "data": {
      "text/plain": [
       "\"\\n$N_0 = $ Ticket Class and Survival are independent variables\\n\\n$N_A = $ There's a significant association between ticket class and survival\\n\""
      ]
     },
     "execution_count": 12,
     "metadata": {},
     "output_type": "execute_result"
    }
   ],
   "source": [
    "'''\n",
    "$N_0 = $ Ticket Class and Survival are independent variables\n",
    "\n",
    "$N_A = $ There's a significant association between ticket class and survival\n",
    "'''"
   ]
  },
  {
   "cell_type": "markdown",
   "id": "5c42fbc4",
   "metadata": {},
   "source": [
    "#### 3. Perform Appropriate Hypothesis Test and Calculate P-Value "
   ]
  },
  {
   "cell_type": "code",
   "execution_count": 13,
   "id": "d7c8e8df",
   "metadata": {},
   "outputs": [
    {
     "name": "stdout",
     "output_type": "stream",
     "text": [
      "Chi-Squared Statistic: 102.88898875696056\n",
      "P-Value: 4.549251711298793e-23\n"
     ]
    }
   ],
   "source": [
    "\n",
    "# Perform the chi-squared test\n",
    "chi2, p, _, _ = chi2_contingency(contingency_table2)\n",
    "\n",
    "# Print the results\n",
    "print(f\"Chi-Squared Statistic: {chi2}\")\n",
    "print(f\"P-Value: {p}\")"
   ]
  },
  {
   "cell_type": "markdown",
   "id": "60dffc0b",
   "metadata": {},
   "source": [
    "#### 4. Interpret Results"
   ]
  },
  {
   "cell_type": "code",
   "execution_count": 14,
   "id": "329c1ca1",
   "metadata": {},
   "outputs": [
    {
     "data": {
      "text/plain": [
       "\"\\nBecause of the low p-value, we reject the null hypothesis ($N_0$). This means \\nthere is significant association between ticket class and survival on the \\nTitanic. In other words, passengers' ticket class was not independent of their \\nchances of survival.\\n\\n\\nSince we have rejected the null hypothesis, it indicates that different ticket \\nclasses had different survival rates. To determine which class had a higher \\nlikelihood of survival, we can examine the proportions of survivors in each \\nticket class. Generally, passengers in higher classes (first class) tended \\nto have a higher likelihood of survival compared to those in lower classes. \\n\""
      ]
     },
     "execution_count": 14,
     "metadata": {},
     "output_type": "execute_result"
    }
   ],
   "source": [
    "'''\n",
    "Because of the low p-value, we reject the null hypothesis ($N_0$). This means \n",
    "there is significant association between ticket class and survival on the \n",
    "Titanic. In other words, passengers' ticket class was not independent of their \n",
    "chances of survival.\n",
    "\n",
    "\n",
    "Since we have rejected the null hypothesis, it indicates that different ticket \n",
    "classes had different survival rates. To determine which class had a higher \n",
    "likelihood of survival, we can examine the proportions of survivors in each \n",
    "ticket class. Generally, passengers in higher classes (first class) tended \n",
    "to have a higher likelihood of survival compared to those in lower classes. \n",
    "'''"
   ]
  },
  {
   "cell_type": "markdown",
   "id": "955d9c93",
   "metadata": {},
   "source": [
    "### C. Surviving and Embarked Location\n",
    "#### 1. Create Contingency Table"
   ]
  },
  {
   "cell_type": "code",
   "execution_count": 15,
   "id": "74a7dce8",
   "metadata": {},
   "outputs": [
    {
     "name": "stdout",
     "output_type": "stream",
     "text": [
      "Survived  Not Survived  Survived\n",
      "Embarked                        \n",
      "C                   75        93\n",
      "Q                   47        30\n",
      "S                  427       217\n"
     ]
    }
   ],
   "source": [
    "contingency_table3 = pd.crosstab(data[\"Embarked\"], data[\"Survived\"].apply(lambda x: \"Not Survived\" if x == 0 else \"Survived\"))\n",
    "\n",
    "# Display the contingency table\n",
    "print(contingency_table3)"
   ]
  },
  {
   "cell_type": "markdown",
   "id": "ca0ba945",
   "metadata": {},
   "source": [
    "#### 2. Create Null and Alternate Hypothesis "
   ]
  },
  {
   "cell_type": "code",
   "execution_count": 16,
   "id": "7daff75e",
   "metadata": {},
   "outputs": [
    {
     "data": {
      "text/plain": [
       "\"\\n$N_0 = $ Embarked and Survival are independent variables\\n\\n$N_A = $ There's a significant association between Embarked and survival\\n\""
      ]
     },
     "execution_count": 16,
     "metadata": {},
     "output_type": "execute_result"
    }
   ],
   "source": [
    "'''\n",
    "$N_0 = $ Port of Embarkation and Survival are independent variables\n",
    "\n",
    "$N_A = $ There's a significant association between Port of Embarkation and survival\n",
    "'''"
   ]
  },
  {
   "cell_type": "markdown",
   "id": "4c1d916b",
   "metadata": {},
   "source": [
    "#### 3. Perform Appropriate Hypothesis Test and Calculate P-Value"
   ]
  },
  {
   "cell_type": "code",
   "execution_count": 17,
   "id": "233113b9",
   "metadata": {},
   "outputs": [
    {
     "name": "stdout",
     "output_type": "stream",
     "text": [
      "Chi-Squared Statistic: 26.48914983923762\n",
      "P-Value: 1.769922284120912e-06\n"
     ]
    }
   ],
   "source": [
    "# Perform the chi-squared test\n",
    "chi2, p, _, _ = chi2_contingency(contingency_table3)\n",
    "\n",
    "# Print the results\n",
    "print(f\"Chi-Squared Statistic: {chi2}\")\n",
    "print(f\"P-Value: {p}\")"
   ]
  },
  {
   "cell_type": "markdown",
   "id": "cb4da4dd",
   "metadata": {},
   "source": [
    "#### 4. Interpret Results "
   ]
  },
  {
   "cell_type": "code",
   "execution_count": 18,
   "id": "9182e982",
   "metadata": {},
   "outputs": [
    {
     "data": {
      "text/plain": [
       "\"\\nBecause of the low p-value (approximately 0.00000177, less then .05), we can \\nreject the null hypothesis. This means there is enough evidence to suggest that \\nthere is a significant association between the variables 'Embarked' and \\n'Survival' in the Titanic dataset.\\nIn other words, the port of embarkation is not independent of survival on the \\nTitanic and likely had an impact had an impact on whether passengers survived\\nor not. \\n\\n\""
      ]
     },
     "execution_count": 18,
     "metadata": {},
     "output_type": "execute_result"
    }
   ],
   "source": [
    "'''\n",
    "Because of the low p-value (approximately 0.00000177, less then .05), we can \n",
    "reject the null hypothesis. This means there is enough evidence to suggest that \n",
    "there is a significant association between the variables 'Embarked' and \n",
    "'Survival' in the Titanic dataset.\n",
    "In other words, the port of embarkation is not independent of survival on the \n",
    "Titanic and likely had an impact had an impact on whether passengers survived\n",
    "or not. \n",
    "\n",
    "'''"
   ]
  },
  {
   "cell_type": "markdown",
   "id": "f98a211e",
   "metadata": {},
   "source": [
    "## Part 4: Hypothesis Testing with Numeric Variables"
   ]
  },
  {
   "cell_type": "markdown",
   "id": "9d59585e",
   "metadata": {},
   "source": [
    "### A. Surviving and Age (Partial Example)\n",
    "#### 1. Understand the distribution of the two populations (Normal or Not Normal)\n",
    "\n",
    "The distributions are plotted for you below in this partial example. As shown by the graphs below, distribution of age for both groups (survived and not survived) is found to be approximately normal.\n",
    "\n",
    "Hint: Notice that there are missing values for age and you will have to handle this before performing hypothesis tests!"
   ]
  },
  {
   "cell_type": "code",
   "execution_count": 32,
   "id": "26ea622a",
   "metadata": {},
   "outputs": [
    {
     "data": {
      "text/plain": [
       "Text(0.5, 1.0, 'Histogram of Age of People who Survived')"
      ]
     },
     "execution_count": 32,
     "metadata": {},
     "output_type": "execute_result"
    },
    {
     "data": {
      "image/png": "[encoded data removed]",
      "text/plain": [
       "<Figure size 640x480 with 1 Axes>"
      ]
     },
     "metadata": {},
     "output_type": "display_data"
    }
   ],
   "source": [
    "data_cleaned = data.dropna(subset=['Age'])\n",
    "\n",
    "survived = data_cleaned.loc[data_cleaned[\"Survived\"] == 1]\n",
    "no_survived = data_cleaned.loc[data_cleaned[\"Survived\"] == 0]\n",
    "\n",
    "\n",
    "ax = survived[\"Age\"].hist()\n",
    "ax.set_xlabel(\"Age\")\n",
    "ax.set_ylabel(\"Frequency\")\n",
    "ax.set_title(\"Histogram of Age of People who Survived\")"
   ]
  },
  {
   "cell_type": "code",
   "execution_count": 33,
   "id": "bb1191be",
   "metadata": {},
   "outputs": [
    {
     "data": {
      "text/plain": [
       "Text(0.5, 1.0, 'Histogram of Age of People who did not Survived')"
      ]
     },
     "execution_count": 33,
     "metadata": {},
     "output_type": "execute_result"
    },
    {
     "data": {
      "image/png": "[encoded data removed]",
      "text/plain": [
       "<Figure size 640x480 with 1 Axes>"
      ]
     },
     "metadata": {},
     "output_type": "display_data"
    }
   ],
   "source": [
    "ax = no_survived[\"Age\"].hist()\n",
    "ax.set_xlabel(\"Age\")\n",
    "ax.set_ylabel(\"Frequency\")\n",
    "ax.set_title(\"Histogram of Age of People who did not Survived\")"
   ]
  },
  {
   "cell_type": "markdown",
   "id": "f0623891",
   "metadata": {},
   "source": [
    "#### 2. Create Null and Alternate Hypothesis "
   ]
  },
  {
   "cell_type": "code",
   "execution_count": null,
   "id": "b11b9ce5",
   "metadata": {},
   "outputs": [],
   "source": [
    "'''\n",
    "$N_0 = $ Age and Survival are independent variables\n",
    "\n",
    "$N_A = $ There's a significant association between Age and survival\n",
    "'''"
   ]
  },
  {
   "cell_type": "markdown",
   "id": "b70fb7da",
   "metadata": {},
   "source": [
    "#### 3. Perform Appropriate Hypothesis Test and Calculate P-Value (Use the fact that the distribution is approximately normal to select your hypothesis test)"
   ]
  },
  {
   "cell_type": "code",
   "execution_count": 1,
   "id": "2b82342e",
   "metadata": {},
   "outputs": [
    {
     "ename": "ModuleNotFoundError",
     "evalue": "No module named 'scipy'",
     "output_type": "error",
     "traceback": [
      "\u001b[0;31m---------------------------------------------------------------------------\u001b[0m",
      "\u001b[0;31mModuleNotFoundError\u001b[0m                       Traceback (most recent call last)",
      "Cell \u001b[0;32mIn[1], line 1\u001b[0m\n\u001b[0;32m----> 1\u001b[0m \u001b[38;5;28;01mfrom\u001b[39;00m \u001b[38;5;21;01mscipy\u001b[39;00m\u001b[38;5;21;01m.\u001b[39;00m\u001b[38;5;21;01mstats\u001b[39;00m \u001b[38;5;28;01mimport\u001b[39;00m ttest_ind\n\u001b[1;32m      3\u001b[0m survived \u001b[38;5;241m=\u001b[39m data_cleaned\u001b[38;5;241m.\u001b[39mloc[data_cleaned[\u001b[38;5;124m\"\u001b[39m\u001b[38;5;124mSurvived\u001b[39m\u001b[38;5;124m\"\u001b[39m] \u001b[38;5;241m==\u001b[39m \u001b[38;5;241m1\u001b[39m][\u001b[38;5;124m\"\u001b[39m\u001b[38;5;124mAge\u001b[39m\u001b[38;5;124m\"\u001b[39m]\n\u001b[1;32m      4\u001b[0m no_survived \u001b[38;5;241m=\u001b[39m data_cleaned\u001b[38;5;241m.\u001b[39mloc[data_cleaned[\u001b[38;5;124m\"\u001b[39m\u001b[38;5;124mSurvived\u001b[39m\u001b[38;5;124m\"\u001b[39m] \u001b[38;5;241m==\u001b[39m \u001b[38;5;241m0\u001b[39m][\u001b[38;5;124m\"\u001b[39m\u001b[38;5;124mAge\u001b[39m\u001b[38;5;124m\"\u001b[39m]\n",
      "\u001b[0;31mModuleNotFoundError\u001b[0m: No module named 'scipy'"
     ]
    }
   ],
   "source": [
    "from scipy.stats import ttest_ind\n",
    "\n",
    "survived = data_cleaned.loc[data_cleaned[\"Survived\"] == 1][\"Age\"]\n",
    "no_survived = data_cleaned.loc[data_cleaned[\"Survived\"] == 0][\"Age\"]\n",
    "\n",
    "survived = survived.dropna()\n",
    "no_survived = no_survived.dropna()\n",
    "\n",
    "\n",
    "t_stat, p_value = ttest_ind(survived, no_survived, equal_var=False)\n",
    "\n",
    "print(f\"T-Statistic: {t_stat}\")\n",
    "print(f\"P-Value: {p_value}\")"
   ]
  },
  {
   "cell_type": "markdown",
   "id": "46591992",
   "metadata": {},
   "source": [
    "#### 4. Interpret Results"
   ]
  },
  {
   "cell_type": "code",
   "execution_count": null,
   "id": "6018618c",
   "metadata": {},
   "outputs": [],
   "source": [
    "'''\n",
    "The t-statistic measures the difference between the means of the \n",
    "two groups. In this case, the t-statistic is approximately -2.046, \n",
    "meaning that the average age of passengers who survived is lower than the \n",
    "average age of passengers who did not survive.\n",
    "\n",
    "The p-value is the probability of observing a t-statistic as extreme as the \n",
    "one calculated, assuming that the null hypothesis is true. In this case, the \n",
    "p-value is approximately 0.0412.\n",
    "\n",
    "Since the p-value is less than .05, we can reject the null hypothesis. \n",
    "This means that there is enough evidence to suggest that there is a significant \n",
    "difference in the average ages between passengers who survived and passengers \n",
    "who did not survive the Titanic disaster. We can conclude that age has a \n",
    "significant impact on survival.\n",
    "\n",
    "\n",
    "'''"
   ]
  },
  {
   "cell_type": "markdown",
   "id": "ea0e4302",
   "metadata": {},
   "source": [
    "### B. Surviving and Fare\n",
    "#### 1. Understand the distribution of the two populations (Normal or Not Normal)\n",
    "Plot the distributions like in previous question. Use plots to determine normality."
   ]
  },
  {
   "cell_type": "code",
   "execution_count": 36,
   "id": "cfad2875",
   "metadata": {},
   "outputs": [
    {
     "data": {
      "text/plain": [
       "Text(0.5, 1.0, 'Histogram of Fare of People who Survived')"
      ]
     },
     "execution_count": 36,
     "metadata": {},
     "output_type": "execute_result"
    },
    {
     "data": {
      "image/png": "[encoded data removed]",
      "text/plain": [
       "<Figure size 640x480 with 1 Axes>"
      ]
     },
     "metadata": {},
     "output_type": "display_data"
    }
   ],
   "source": [
    "\n",
    "survived = data_cleaned.loc[data_cleaned[\"Survived\"] == 1]\n",
    "no_survived = data_cleaned.loc[data_cleaned[\"Survived\"] == 0]\n",
    "\n",
    "\n",
    "ax = survived[\"Fare\"].hist()\n",
    "ax.set_xlabel(\"Fare\")\n",
    "ax.set_ylabel(\"Frequency\")\n",
    "ax.set_title(\"Histogram of Fare of People who Survived\")"
   ]
  },
  {
   "cell_type": "markdown",
   "id": "d44866c5",
   "metadata": {},
   "source": [
    "#### 2. Create Null and Alternate Hypothesis "
   ]
  },
  {
   "cell_type": "markdown",
   "id": "4e0ac82c",
   "metadata": {},
   "source": []
  },
  {
   "cell_type": "code",
   "execution_count": 37,
   "id": "46fd7f56",
   "metadata": {},
   "outputs": [
    {
     "data": {
      "text/plain": [
       "Text(0.5, 1.0, 'Histogram of Fare of People who did not Survived')"
      ]
     },
     "execution_count": 37,
     "metadata": {},
     "output_type": "execute_result"
    },
    {
     "data": {
      "image/png": "[encoded data removed]",
      "text/plain": [
       "<Figure size 640x480 with 1 Axes>"
      ]
     },
     "metadata": {},
     "output_type": "display_data"
    }
   ],
   "source": [
    "ax = no_survived[\"Fare\"].hist()\n",
    "ax.set_xlabel(\"Fare\")\n",
    "ax.set_ylabel(\"Frequency\")\n",
    "ax.set_title(\"Histogram of Fare of People who did not Survived\")"
   ]
  },
  {
   "cell_type": "markdown",
   "id": "6cf580ae",
   "metadata": {},
   "source": [
    "#### 3. Perform Appropriate Hypothesis Test and Calculate P-Value (Use characteristics from distribution)"
   ]
  },
  {
   "cell_type": "code",
   "execution_count": 38,
   "id": "8d486a92",
   "metadata": {},
   "outputs": [
    {
     "name": "stdout",
     "output_type": "stream",
     "text": [
      "T-Statistic: 6.547691851114033\n",
      "P-Value: 1.9646132697636508e-10\n"
     ]
    }
   ],
   "source": [
    "\n",
    "survived = data_cleaned.loc[data_cleaned[\"Survived\"] == 1][\"Fare\"]\n",
    "no_survived = data_cleaned.loc[data_cleaned[\"Survived\"] == 0][\"Fare\"]\n",
    "\n",
    "survived = survived.dropna()\n",
    "no_survived = no_survived.dropna()\n",
    "\n",
    "t_stat, p_value = ttest_ind(survived, no_survived, equal_var=False)\n",
    "\n",
    "print(f\"T-Statistic: {t_stat}\")\n",
    "print(f\"P-Value: {p_value}\")"
   ]
  },
  {
   "cell_type": "markdown",
   "id": "42b6b7fe",
   "metadata": {},
   "source": [
    "#### 4. Interpret Results"
   ]
  },
  {
   "cell_type": "code",
   "execution_count": 39,
   "id": "ed1637fc",
   "metadata": {},
   "outputs": [
    {
     "data": {
      "text/plain": [
       "'\\nThe t-statistic measures the difference between the means of the \\ntwo groups. In this case, the t-statistic is approximately 6.55, meaning\\nthat the average fare for passengers who survived is significantly higher than \\nthe average fare for passengers who did not survive.\\n\\nThe p-value is the probability of observing a t-statistic as extreme as the \\none calculated, assuming that the null hypothesis is true. In this case, the \\np-value is approximately 0.000000000196.\\n\\nSince the p-value is less than .05, we can reject the null hypothesis. \\nThis means that there is enough evidence to suggest that there is a significant \\ndifference in the average fare between passengers who survived and passengers \\nwho did not survive the Titanic disaster. We can conclude that Fare has a \\nsignificant impact on survival.\\n'"
      ]
     },
     "execution_count": 39,
     "metadata": {},
     "output_type": "execute_result"
    }
   ],
   "source": [
    "'''\n",
    "The t-statistic measures the difference between the means of the \n",
    "two groups. In this case, the t-statistic is approximately 6.55, meaning\n",
    "that the average fare for passengers who survived is significantly higher than \n",
    "the average fare for passengers who did not survive.\n",
    "\n",
    "The p-value is the probability of observing a t-statistic as extreme as the \n",
    "one calculated, assuming that the null hypothesis is true. In this case, the \n",
    "p-value is approximately 0.000000000196.\n",
    "\n",
    "Since the p-value is less than .05, we can reject the null hypothesis. \n",
    "This means that there is enough evidence to suggest that there is a significant \n",
    "difference in the average fare between passengers who survived and passengers \n",
    "who did not survive the Titanic disaster. We can conclude that Fare has a \n",
    "significant impact on survival.\n",
    "'''"
   ]
  }
 ],
 "metadata": {
  "kernelspec": {
   "display_name": "Python 3.9.6 64-bit",
   "language": "python",
   "name": "python3"
  },
  "language_info": {
   "codemirror_mode": {
    "name": "ipython",
    "version": 3
   },
   "file_extension": ".py",
   "mimetype": "text/x-python",
   "name": "python",
   "nbconvert_exporter": "python",
   "pygments_lexer": "ipython3",
   "version": "3.9.6"
  },
  "vscode": {
   "interpreter": {
    "hash": "31f2aee4e71d21fbe5cf8b01ff0e069b9275f58929596ceb00d14d90e3e16cd6"
   }
  }
 },
 "nbformat": 4,
 "nbformat_minor": 5
}
